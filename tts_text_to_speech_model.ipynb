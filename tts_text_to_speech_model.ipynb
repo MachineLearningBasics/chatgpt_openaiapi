{
  "nbformat": 4,
  "nbformat_minor": 0,
  "metadata": {
    "colab": {
      "provenance": []
    },
    "kernelspec": {
      "name": "python3",
      "display_name": "Python 3"
    },
    "language_info": {
      "name": "python"
    }
  },
  "cells": [
    {
      "cell_type": "code",
      "execution_count": 1,
      "metadata": {
        "colab": {
          "base_uri": "https://localhost:8080/"
        },
        "id": "2-PueqpuAaCl",
        "outputId": "c226000d-2eb3-43b1-f181-43112deef126"
      },
      "outputs": [
        {
          "output_type": "stream",
          "name": "stdout",
          "text": [
            "Collecting openai\n",
            "  Downloading openai-1.1.1-py3-none-any.whl (217 kB)\n",
            "\u001b[?25l     \u001b[90m━━━━━━━━━━━━━━━━━━━━━━━━━━━━━━━━━━━━━━━━\u001b[0m \u001b[32m0.0/217.8 kB\u001b[0m \u001b[31m?\u001b[0m eta \u001b[36m-:--:--\u001b[0m\r\u001b[2K     \u001b[91m━━━━━━━━━━━━━━━━━━━━━━━━━━━━━━━━━━━━━━━\u001b[0m\u001b[90m╺\u001b[0m \u001b[32m215.0/217.8 kB\u001b[0m \u001b[31m6.7 MB/s\u001b[0m eta \u001b[36m0:00:01\u001b[0m\r\u001b[2K     \u001b[90m━━━━━━━━━━━━━━━━━━━━━━━━━━━━━━━━━━━━━━━━\u001b[0m \u001b[32m217.8/217.8 kB\u001b[0m \u001b[31m5.5 MB/s\u001b[0m eta \u001b[36m0:00:00\u001b[0m\n",
            "\u001b[?25hRequirement already satisfied: anyio<4,>=3.5.0 in /usr/local/lib/python3.10/dist-packages (from openai) (3.7.1)\n",
            "Requirement already satisfied: distro<2,>=1.7.0 in /usr/lib/python3/dist-packages (from openai) (1.7.0)\n",
            "Collecting httpx<1,>=0.23.0 (from openai)\n",
            "  Downloading httpx-0.25.1-py3-none-any.whl (75 kB)\n",
            "\u001b[2K     \u001b[90m━━━━━━━━━━━━━━━━━━━━━━━━━━━━━━━━━━━━━━━━\u001b[0m \u001b[32m75.0/75.0 kB\u001b[0m \u001b[31m6.8 MB/s\u001b[0m eta \u001b[36m0:00:00\u001b[0m\n",
            "\u001b[?25hRequirement already satisfied: pydantic<3,>=1.9.0 in /usr/local/lib/python3.10/dist-packages (from openai) (1.10.13)\n",
            "Requirement already satisfied: tqdm>4 in /usr/local/lib/python3.10/dist-packages (from openai) (4.66.1)\n",
            "Requirement already satisfied: typing-extensions<5,>=4.5 in /usr/local/lib/python3.10/dist-packages (from openai) (4.5.0)\n",
            "Requirement already satisfied: idna>=2.8 in /usr/local/lib/python3.10/dist-packages (from anyio<4,>=3.5.0->openai) (3.4)\n",
            "Requirement already satisfied: sniffio>=1.1 in /usr/local/lib/python3.10/dist-packages (from anyio<4,>=3.5.0->openai) (1.3.0)\n",
            "Requirement already satisfied: exceptiongroup in /usr/local/lib/python3.10/dist-packages (from anyio<4,>=3.5.0->openai) (1.1.3)\n",
            "Requirement already satisfied: certifi in /usr/local/lib/python3.10/dist-packages (from httpx<1,>=0.23.0->openai) (2023.7.22)\n",
            "Collecting httpcore (from httpx<1,>=0.23.0->openai)\n",
            "  Downloading httpcore-1.0.1-py3-none-any.whl (76 kB)\n",
            "\u001b[2K     \u001b[90m━━━━━━━━━━━━━━━━━━━━━━━━━━━━━━━━━━━━━━━━\u001b[0m \u001b[32m76.9/76.9 kB\u001b[0m \u001b[31m4.9 MB/s\u001b[0m eta \u001b[36m0:00:00\u001b[0m\n",
            "\u001b[?25hCollecting h11<0.15,>=0.13 (from httpcore->httpx<1,>=0.23.0->openai)\n",
            "  Downloading h11-0.14.0-py3-none-any.whl (58 kB)\n",
            "\u001b[2K     \u001b[90m━━━━━━━━━━━━━━━━━━━━━━━━━━━━━━━━━━━━━━━━\u001b[0m \u001b[32m58.3/58.3 kB\u001b[0m \u001b[31m7.4 MB/s\u001b[0m eta \u001b[36m0:00:00\u001b[0m\n",
            "\u001b[?25hInstalling collected packages: h11, httpcore, httpx, openai\n",
            "\u001b[31mERROR: pip's dependency resolver does not currently take into account all the packages that are installed. This behaviour is the source of the following dependency conflicts.\n",
            "llmx 0.0.15a0 requires cohere, which is not installed.\n",
            "llmx 0.0.15a0 requires tiktoken, which is not installed.\u001b[0m\u001b[31m\n",
            "\u001b[0mSuccessfully installed h11-0.14.0 httpcore-1.0.1 httpx-0.25.1 openai-1.1.1\n"
          ]
        }
      ],
      "source": [
        "!pip install openai"
      ]
    },
    {
      "cell_type": "code",
      "source": [
        "import openai\n",
        "openai.api_key = \"YOUR_API_KEY\""
      ],
      "metadata": {
        "id": "TreELQlfAiar"
      },
      "execution_count": 3,
      "outputs": []
    },
    {
      "cell_type": "markdown",
      "source": [
        "# Text to convert"
      ],
      "metadata": {
        "id": "foKYMfgCAx_C"
      }
    },
    {
      "cell_type": "code",
      "source": [
        "text1 = \" Exciting News! I'm thrilled to share the latest breakthrough in text-to-speech technology!\"\n",
        "text2 = \" OpenAI's new model is poised to revolutionize the way we interact with content.\"\n",
        "text3 = \" You can concvert to speech any text, using 6 preset voices. Let's discover how to do it!\"\n",
        "text4 = \" But I want to hear from you! What do you think about this game-changing development?\"\n",
        "text5 = \" How do you see it impacting industries, businesses, or your own projects? \"\n",
        "text6 = \" Let's start a conversation. Read, comment, and like this post to join the discussion and stay on the cutting edge of AI innovation. Your insights matter!\""
      ],
      "metadata": {
        "id": "xN-Ut1lGAwiY"
      },
      "execution_count": 8,
      "outputs": []
    },
    {
      "cell_type": "markdown",
      "source": [
        "I want to translate:\n",
        "\n",
        "*   text2 to French\n",
        "*   text3 to German\n",
        "*   text4 to Spanish\n",
        "\n",
        "I tried other languages ==> fantastic!"
      ],
      "metadata": {
        "id": "_sD6gEYWBINy"
      }
    },
    {
      "cell_type": "markdown",
      "source": [
        "## Translate to different languages using chat.completion"
      ],
      "metadata": {
        "id": "QEIr1BEeBcSA"
      }
    },
    {
      "cell_type": "code",
      "source": [
        "from openai import OpenAI\n",
        "client = OpenAI(api_key = \"YOUR_API_KEY\")"
      ],
      "metadata": {
        "id": "6H0Hk21SBaqV"
      },
      "execution_count": 6,
      "outputs": []
    },
    {
      "cell_type": "code",
      "source": [
        "list_text=[text2,text3,text4]\n",
        "translate =['French','German','Spanish']"
      ],
      "metadata": {
        "id": "fnV8p0IWCM7I"
      },
      "execution_count": 11,
      "outputs": []
    },
    {
      "cell_type": "code",
      "source": [
        "text_translated=[]\n",
        "for i, text in enumerate(list_text):\n",
        "  print(f\"Translate to {translate[i]}\")\n",
        "  completion = client.chat.completions.create(\n",
        "    model=\"gpt-3.5-turbo\",\n",
        "    messages=[\n",
        "      {\"role\": \"system\", \"content\": \"You are a helpful assistant.\"},\n",
        "      {\"role\": \"user\", \"content\": f\"Translate to {translate[i]} this text {text}\"}\n",
        "    ]\n",
        "  )\n",
        "  text_translated.append(completion.choices[0].message.content)\n",
        "  print(completion.choices[0].message.content)"
      ],
      "metadata": {
        "colab": {
          "base_uri": "https://localhost:8080/"
        },
        "id": "zj44NOZMBLHR",
        "outputId": "59a48175-ef9a-432e-adbd-eb590ec5ac53"
      },
      "execution_count": 16,
      "outputs": [
        {
          "output_type": "stream",
          "name": "stdout",
          "text": [
            "Translate to French\n",
            "Le nouveau modèle d'OpenAI est sur le point de révolutionner la façon dont nous interagissons avec le contenu.\n",
            "Translate to German\n",
            "Sie können jeden Text in 6 voreingestellten Stimmen in Sprache umwandeln. Lassen Sie uns herausfinden, wie man es macht!\n",
            "Translate to Spanish\n",
            "¡Pero quiero escuchar tu opinión! ¿Qué te parece este desarrollo que cambia el juego?\n"
          ]
        }
      ]
    },
    {
      "cell_type": "markdown",
      "source": [
        "## Convert to Audio"
      ],
      "metadata": {
        "id": "FUXkOPbBDLah"
      }
    },
    {
      "cell_type": "code",
      "source": [
        "texts = [text1]\n",
        "texts.extend(text_translated)\n",
        "texts.extend([text5, text6])\n",
        "print(\"final text to use to convert to audio\\n\")\n",
        "texts"
      ],
      "metadata": {
        "colab": {
          "base_uri": "https://localhost:8080/"
        },
        "id": "N9U1zxqEDJum",
        "outputId": "067312c4-cc41-4a4b-d660-64fd3ee433ad"
      },
      "execution_count": 23,
      "outputs": [
        {
          "output_type": "stream",
          "name": "stdout",
          "text": [
            "final text to use to convert to audio\n",
            "\n"
          ]
        },
        {
          "output_type": "execute_result",
          "data": {
            "text/plain": [
              "[\" Exciting News! I'm thrilled to share the latest breakthrough in text-to-speech technology!\",\n",
              " \"Le nouveau modèle d'OpenAI est sur le point de révolutionner la façon dont nous interagissons avec le contenu.\",\n",
              " 'Sie können jeden Text in 6 voreingestellten Stimmen in Sprache umwandeln. Lassen Sie uns herausfinden, wie man es macht!',\n",
              " '¡Pero quiero escuchar tu opinión! ¿Qué te parece este desarrollo que cambia el juego?',\n",
              " ' How do you see it impacting industries, businesses, or your own projects? ',\n",
              " \" Let's start a conversation. Read, comment, and like this post to join the discussion and stay on the cutting edge of AI innovation. Your insights matter!\"]"
            ]
          },
          "metadata": {},
          "execution_count": 23
        }
      ]
    },
    {
      "cell_type": "code",
      "source": [
        "voices = ['alloy', 'echo', 'fable', 'onyx', 'nova', 'shimmer']"
      ],
      "metadata": {
        "id": "TDfqnA99EUpk"
      },
      "execution_count": 24,
      "outputs": []
    },
    {
      "cell_type": "code",
      "source": [
        "for i, text in enumerate(texts):\n",
        "  speech_file_path = f'text_{voices[i]}.mp3'\n",
        "  response = openai.audio.speech.create(\n",
        "    model=\"tts-1\",\n",
        "    voice=voices[i],\n",
        "    input=\" \"+text\n",
        "  )\n",
        "  response.stream_to_file(speech_file_path)"
      ],
      "metadata": {
        "id": "N7SWbxJJD0VU"
      },
      "execution_count": 25,
      "outputs": []
    }
  ]
}